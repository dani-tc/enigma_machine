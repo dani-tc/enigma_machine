{
 "cells": [
  {
   "attachments": {},
   "cell_type": "markdown",
   "metadata": {},
   "source": [
    "# Código para una Máquina Enigma en Python"
   ]
  },
  {
   "cell_type": "code",
   "execution_count": 109,
   "metadata": {},
   "outputs": [],
   "source": [
    "#Importaciones\n",
    "import random\n",
    "import string"
   ]
  },
  {
   "attachments": {},
   "cell_type": "markdown",
   "metadata": {},
   "source": [
    "Definición de varibale 'st' para la parte ordenada del rotor y el teclado."
   ]
  },
  {
   "cell_type": "code",
   "execution_count": 110,
   "metadata": {},
   "outputs": [
    {
     "name": "stdout",
     "output_type": "stream",
     "text": [
      "['A', 'B', 'C', 'D', 'E', 'F', 'G', 'H', 'I', 'J', 'K', 'L', 'M', 'N', 'O', 'P', 'Q', 'R', 'S', 'T', 'U', 'V', 'W', 'X', 'Y', 'Z', ' ', '.']\n",
      "28\n"
     ]
    }
   ],
   "source": [
    "st = ['A','B','C','D','E','F','G','H','I','J','K','L','M','N','O','P','Q','R','S','T','U','V','W','X','Y','Z',' ','.']\n",
    "# Imprimir el rotor 'st' y su longitud\n",
    "print(st)\n",
    "print(len(st))"
   ]
  },
  {
   "attachments": {},
   "cell_type": "markdown",
   "metadata": {},
   "source": [
    "Definición de variable 'st_only_letters' para tener una lista de solo letras que será usada para armar el reflector."
   ]
  },
  {
   "cell_type": "code",
   "execution_count": 111,
   "metadata": {},
   "outputs": [
    {
     "name": "stdout",
     "output_type": "stream",
     "text": [
      "['K', 'G', 'A', 'X', 'D', 'U', 'I', 'T', 'I', 'F', 'K', 'W', 'R', 'F', 'G', 'N', 'X', 'Y', 'R', 'T', 'A', 'N', 'M', 'Y', 'M', 'U', 'W', 'D']\n",
      "28\n"
     ]
    }
   ],
   "source": [
    "st_only_letters = ['A','B','C','D','E','F','G','H','I','J','K','L','M','N','O','P','Q','R','S','T','U','V','W','X','Y','Z']\n",
    "# Escoger aleatoriamente 14 letras de la variable 'st_only_letters' para el reflector\n",
    "random_letters =  random.sample(st_only_letters,14)\n",
    "# Definición de varibale 'rf' para el reflector (14 elementos repetidos dos veces)\n",
    "rf= []\n",
    "# For loop para duplicar los elementos de la lista 'random_letters' para que tener 28 elementos.\n",
    "for i in random_letters:\n",
    "    rf.extend([i,i])\n",
    "# Función para cambiar la lista a un orden aleatorio\n",
    "random.shuffle(rf)\n",
    "# Imprimir el reflector 'rf' y su longitud\n",
    "print(rf)\n",
    "print(len(rf))"
   ]
  },
  {
   "cell_type": "code",
   "execution_count": 112,
   "metadata": {},
   "outputs": [
    {
     "name": "stdout",
     "output_type": "stream",
     "text": [
      "['D', 'A', 'R', 'L', 'K', 'Q', 'V', 'W', 'U', 'C', 'X', 'S', 'I', 'Z', 'E', 'H', '.', 'J', 'G', ' ', 'O', 'B', 'T', 'M', 'N', 'F', 'Y', 'P']\n",
      "28\n"
     ]
    }
   ],
   "source": [
    "# Definición de variable 'r_right' para tener una lista de solo letras que será usada para armar la parte desordenada del rotor derecho\n",
    "r_right = ['A','B','C','D','E','F','G','H','I','J','K','L','M','N','O','P','Q','R','S','T','U','V','W','X','Y','Z',' ','.']\n",
    "random.shuffle(r_right)\n",
    "print(r_right)\n",
    "print(len(r_right))"
   ]
  },
  {
   "cell_type": "code",
   "execution_count": 113,
   "metadata": {},
   "outputs": [
    {
     "name": "stdout",
     "output_type": "stream",
     "text": [
      "['J', '.', 'U', ' ', 'Q', 'C', 'W', 'H', 'B', 'F', 'N', 'T', 'D', 'G', 'S', 'O', 'K', 'A', 'Y', 'P', 'V', 'L', 'X', 'Z', 'R', 'E', 'I', 'M']\n",
      "28\n"
     ]
    }
   ],
   "source": [
    "# Definición de variable 'r_mid' para tener una lista de solo letras que será usada para armar la parte desordenada del rotor medio\n",
    "r_mid = ['A','B','C','D','E','F','G','H','I','J','K','L','M','N','O','P','Q','R','S','T','U','V','W','X','Y','Z',' ','.']\n",
    "random.shuffle(r_mid)\n",
    "print(r_mid)\n",
    "print(len(r_mid))"
   ]
  },
  {
   "cell_type": "code",
   "execution_count": 114,
   "metadata": {},
   "outputs": [
    {
     "name": "stdout",
     "output_type": "stream",
     "text": [
      "['I', 'U', 'A', 'P', 'J', 'H', 'L', 'C', 'N', 'M', 'X', 'D', 'O', 'Q', 'F', 'W', 'G', 'S', 'R', ' ', 'B', 'V', 'Y', 'K', 'T', 'E', '.', 'Z']\n",
      "28\n"
     ]
    }
   ],
   "source": [
    "# Definición de variable 'r_left' para tener una lista de solo letras que será usada para armar la parte desordenada del rotor izquierdo\n",
    "r_left = ['A','B','C','D','E','F','G','H','I','J','K','L','M','N','O','P','Q','R','S','T','U','V','W','X','Y','Z',' ','.']\n",
    "random.shuffle(r_left)\n",
    "print(r_left)\n",
    "print(len(r_left))"
   ]
  },
  {
   "attachments": {},
   "cell_type": "markdown",
   "metadata": {},
   "source": [
    "Aquí comienza la construcción de la máquina enigma con las columnas aleatorias definidads en las lineas anteriores."
   ]
  },
  {
   "cell_type": "code",
   "execution_count": 115,
   "metadata": {},
   "outputs": [],
   "source": [
    "# Definición de variables para crear el rotor con su par de letras. Una parte ordenada y otra parte desordenada alfabéticamente.\n",
    "rotor_left = []\n",
    "rotor_mid = []\n",
    "rotor_right = [] "
   ]
  },
  {
   "attachments": {},
   "cell_type": "markdown",
   "metadata": {},
   "source": [
    "Ciclos for para crear una lista de tuplas con la función zip. Estas tuplas se convierten en listas ([i[],i[]]) y son añadidas a su respectiva lista (rotor_left, rotor_mid, rotor_right) con la función append y donde la primera posición de la tupla es un letra de la columna ordenada (variable st) y la segunda posición es una letra de la columna desordena del rotor respectivo (r_left, r_mid, r_right)."
   ]
  },
  {
   "cell_type": "code",
   "execution_count": 116,
   "metadata": {},
   "outputs": [],
   "source": [
    "for i in zip(st, r_left):\n",
    "    rotor_left.append([i[0],i[1]]) \n",
    "\n",
    "for i in zip(st, r_mid):\n",
    "    rotor_mid.append([i[0],i[1]]) \n",
    "\n",
    "for i in zip(st, r_right):\n",
    "    rotor_right.append([i[0],i[1]])"
   ]
  },
  {
   "attachments": {},
   "cell_type": "markdown",
   "metadata": {},
   "source": [
    "Imprimir estructura de la máquina enigma con la función zip para unir los diferentres rotores (reflector, rotor izquierdo, rotor medio, rotor derecho y teclado)"
   ]
  },
  {
   "cell_type": "code",
   "execution_count": 131,
   "metadata": {},
   "outputs": [
    {
     "name": "stdout",
     "output_type": "stream",
     "text": [
      "Reflector Rotor_left Rot_mid Rot_right Teclado\n",
      "    K       D-P       T-P       J-C       A\n",
      "    G       E-J       U-V       K-X       B\n",
      "    A       F-H       V-L       L-S       C\n",
      "    X       G-L       W-X       M-I       D\n",
      "    D       H-C       X-Z       N-Z       E\n",
      "    U       I-N       Y-R       O-E       F\n",
      "    I       J-M       Z-E       P-H       G\n",
      "    T       K-X        -I       Q-.       H\n",
      "    I       L-D       .-M       R-J       I\n",
      "    F       M-O       A-J       S-G       J\n",
      "    K       N-Q       B-.       T-        K\n",
      "    W       O-F       C-U       U-O       L\n",
      "    R       P-W       D-        V-B       M\n",
      "    F       Q-G       E-Q       W-T       N\n",
      "    G       R-S       F-C       X-M       O\n",
      "    N       S-R       G-W       Y-N       P\n",
      "    X       T-        H-H       Z-F       Q\n",
      "    Y       U-B       I-B        -Y       R\n",
      "    R       V-V       J-F       .-P       S\n",
      "    T       W-Y       K-N       A-D       T\n",
      "    A       X-K       L-T       B-A       U\n",
      "    N       Y-T       M-D       C-R       V\n",
      "    M       Z-E       N-G       D-L       W\n",
      "    Y        -.       O-S       E-K       X\n",
      "    M       .-Z       P-O       F-Q       Y\n",
      "    U       A-I       Q-K       G-V       Z\n",
      "    W       B-U       R-A       H-W        \n",
      "    D       C-A       S-Y       I-U       .\n"
     ]
    }
   ],
   "source": [
    "print(f'Reflector Rotor_left Rot_mid Rot_right Teclado')\n",
    "for elem in zip(rf, rotor_left, rotor_mid, rotor_right, st):\n",
    "    print(f'    {elem[0]}       {elem[1][0]}-{elem[1][1]}       {elem[2][0]}-{elem[2][1]}       {elem[3][0]}-{elem[3][1]}       {elem[4]}')\n"
   ]
  },
  {
   "attachments": {},
   "cell_type": "markdown",
   "metadata": {},
   "source": [
    "Lógica para el movimiento de los rotores"
   ]
  },
  {
   "attachments": {},
   "cell_type": "markdown",
   "metadata": {},
   "source": [
    "Función mov_rotor para hacer el movimiento del rotor, es decir, el primer elemento del rotor, sera extraído y movido al final de lista cuando el usuario utilice el teclado. Esto se hace con la funcion pop para quitar el elemento de la lsita y append para añadirlo por defecto al final."
   ]
  },
  {
   "cell_type": "code",
   "execution_count": 118,
   "metadata": {},
   "outputs": [],
   "source": [
    "def mov_rotor(rotor, step):\n",
    "    count = 0\n",
    "    while count < step:\n",
    "        rotor.append(rotor.pop(0))\n",
    "        count += 1\n",
    "    return rotor\n"
   ]
  },
  {
   "attachments": {},
   "cell_type": "markdown",
   "metadata": {},
   "source": [
    "Función \"conf_rotores\" para configurar los rotores con la clave incial que le de el usuario. Se va buscando en la posición incial de la lista en la columna 0 si la primera letra coincide con la primera letra de la clave inicial si no coincide se quita la primera tupla y se añade al final. Así con cada rotor."
   ]
  },
  {
   "cell_type": "code",
   "execution_count": 119,
   "metadata": {},
   "outputs": [],
   "source": [
    "def conf_rotores(key):\n",
    "    while key.upper()[0] != rotor_left[0][0]:\n",
    "        rotor_left.append(rotor_left.pop(0))\n",
    "\n",
    "    while key.upper()[1] != rotor_mid[0][0]:\n",
    "        rotor_mid.append(rotor_mid.pop(0))\n",
    "\n",
    "    while key.upper()[2] != rotor_right[0][0]:\n",
    "        rotor_right.append(rotor_right.pop(0))"
   ]
  },
  {
   "attachments": {},
   "cell_type": "markdown",
   "metadata": {},
   "source": [
    "Función \"signal_go\" para hacer los movimientos de la señal de entrada entre los rotores. Se tiene como parámetro el rotor que recibe la señal y a que índice del rotor llega la señal. En el rotor se busca el índice en la columna 1 que es la desordenada, ya que esa la primera columna que recibe la señal, y se obtiene la letra de ese indice (input_letter), se busca en los pares del rotor en la columana ordenada (columna 0) la letra correspondiente (input letter) y cada vez que busca se suma para saber la posición (index_out) de esa letra en la columna ordenada que es por donde la señal pasa al siguiente rotor en movimiento de ida."
   ]
  },
  {
   "cell_type": "code",
   "execution_count": 120,
   "metadata": {},
   "outputs": [],
   "source": [
    "def signal_go(rotor, index, verbose=False):\n",
    "    input_letter = rotor[index][1]\n",
    "    index_out = 0\n",
    "    for pairs in rotor:\n",
    "        if pairs[0]!= input_letter:\n",
    "            index_out += 1\n",
    "        else:\n",
    "            break\n",
    "    return input_letter, index_out"
   ]
  },
  {
   "cell_type": "code",
   "execution_count": 121,
   "metadata": {},
   "outputs": [
    {
     "data": {
      "text/plain": [
       "('R', 17)"
      ]
     },
     "execution_count": 121,
     "metadata": {},
     "output_type": "execute_result"
    }
   ],
   "source": [
    "signal_go(rotor_right,2) "
   ]
  },
  {
   "attachments": {},
   "cell_type": "markdown",
   "metadata": {},
   "source": [
    "Función \"signal_returned\" para hacer los movimientos de la señal de salida entre los rotores. Se tiene como parámetro el rotor que recibe la señal y a que índice del rotor llega la señal. En el rotor se busca el índice en la columna 0 que es la ordenada, ya que esa la primera columna que recibe la señal , y se obtiene la letra de ese indice (input_letter), se busca en los pares del rotor en la columana desordenada (columna 1) la letra correspondiente (input letter) y cada vez que busca se suma para saber la posición (index_out) de esa letra en la columna desordenada que es por donde la señal sale en movimiento de devuelta."
   ]
  },
  {
   "cell_type": "code",
   "execution_count": 122,
   "metadata": {},
   "outputs": [],
   "source": [
    "def singal_returned(rotor, index, verbose=False):\n",
    "    input_letter = rotor[index][0]\n",
    "    index_out = 0\n",
    "    for pairs in rotor:\n",
    "        if pairs[1] != input_letter:\n",
    "            index_out += 1\n",
    "        else:\n",
    "            break\n",
    "    return input_letter, index_out"
   ]
  },
  {
   "cell_type": "code",
   "execution_count": 123,
   "metadata": {},
   "outputs": [
    {
     "data": {
      "text/plain": [
       "('K', 23)"
      ]
     },
     "execution_count": 123,
     "metadata": {},
     "output_type": "execute_result"
    }
   ],
   "source": [
    "singal_returned(rotor_left,10)"
   ]
  },
  {
   "attachments": {},
   "cell_type": "markdown",
   "metadata": {},
   "source": [
    "?????"
   ]
  },
  {
   "cell_type": "code",
   "execution_count": 124,
   "metadata": {},
   "outputs": [],
   "source": [
    "def index_reflector(rotor, index, verbose=False):\n",
    "    input_letter = rotor[index]\n",
    "    if index == (len(rotor)-1):\n",
    "        for i in range(len(rotor)):\n",
    "            if rotor[i] == input_letter:\n",
    "                return input_letter, i\n",
    "    else:\n",
    "        for j in range(index+1, len(rotor)):\n",
    "            if rotor[j] == input_letter:\n",
    "                return input_letter,j\n",
    "            else:\n",
    "                for k in range(index):\n",
    "                    if rotor[k] == input_letter:\n",
    "                        return input_letter,k"
   ]
  },
  {
   "cell_type": "code",
   "execution_count": 125,
   "metadata": {},
   "outputs": [
    {
     "name": "stdout",
     "output_type": "stream",
     "text": [
      "('K', 10)\n",
      "('G', 14)\n",
      "('A', 20)\n",
      "('X', 16)\n",
      "('D', 27)\n",
      "('U', 25)\n",
      "('I', 8)\n",
      "('T', 19)\n",
      "('I', 6)\n",
      "('F', 13)\n",
      "('K', 0)\n",
      "('W', 26)\n",
      "('R', 18)\n",
      "('F', 9)\n",
      "('G', 1)\n",
      "('N', 21)\n",
      "('X', 3)\n",
      "('Y', 23)\n",
      "('R', 12)\n",
      "('T', 7)\n",
      "('A', 2)\n",
      "('N', 15)\n",
      "('M', 24)\n",
      "('Y', 17)\n",
      "('M', 22)\n",
      "('U', 5)\n",
      "('W', 11)\n",
      "('D', 4)\n"
     ]
    }
   ],
   "source": [
    "for i in range(len(rf)):\n",
    "    print(index_reflector(rf,i))"
   ]
  },
  {
   "attachments": {},
   "cell_type": "markdown",
   "metadata": {},
   "source": [
    "??"
   ]
  },
  {
   "cell_type": "code",
   "execution_count": 142,
   "metadata": {},
   "outputs": [],
   "source": [
    "def enigma(mensaje, clave):\n",
    "    conf_rotores(clave)\n",
    "    cypher_message = []\n",
    "    for i in mensaje.upper():\n",
    "        mov_rotor(rotor_right,1)\n",
    "        if rotor_right[-1][0] == 'V':\n",
    "            mov_rotor(rotor_mid,1)\n",
    "            if rotor_mid[-1][0]=='Q':\n",
    "                mov_rotor(rotor_left,1)\n",
    "        input_index = st.index(i)\n",
    "        first_step = signal_go(rotor_right, input_index)\n",
    "        second_step = signal_go(rotor_mid,first_step[1])\n",
    "        third_step = signal_go(rotor_left, second_step[1])\n",
    "        rebound = index_reflector(rf, third_step[1])\n",
    "        fourth_step = singal_returned(rotor_left, rebound[1])\n",
    "        fifth_step = singal_returned(rotor_mid, fourth_step[1])\n",
    "        sixth_step = singal_returned(rotor_right, fifth_step[1])\n",
    "        cypher_message.append(st[sixth_step[1]])\n",
    "        print(f'Reflector Rotor_left Rot_mid Rot_right Teclado')\n",
    "        for elem in zip(rf, rotor_left, rotor_mid, rotor_right, st):\n",
    "            print(f'    {elem[0]}       {elem[1][0]}-{elem[1][1]}       {elem[2][0]}-{elem[2][1]}       {elem[3][0]}-{elem[3][1]}       {elem[4]}')\n",
    "\n",
    "    cypher_message_string = ''.join(cypher_message)\n",
    "    return cypher_message_string"
   ]
  },
  {
   "attachments": {},
   "cell_type": "markdown",
   "metadata": {},
   "source": [
    "Encriptar mensaje con su respectiva clave."
   ]
  },
  {
   "cell_type": "code",
   "execution_count": 143,
   "metadata": {},
   "outputs": [
    {
     "name": "stdout",
     "output_type": "stream",
     "text": [
      "Reflector Rotor_left Rot_mid Rot_right Teclado\n",
      "    K       H-C       T-P       D-L       A\n",
      "    G       I-N       U-V       E-K       B\n",
      "    A       J-M       V-L       F-Q       C\n",
      "    X       K-X       W-X       G-V       D\n",
      "    D       L-D       X-Z       H-W       E\n",
      "    U       M-O       Y-R       I-U       F\n",
      "    I       N-Q       Z-E       J-C       G\n",
      "    T       O-F        -I       K-X       H\n",
      "    I       P-W       .-M       L-S       I\n",
      "    F       Q-G       A-J       M-I       J\n",
      "    K       R-S       B-.       N-Z       K\n",
      "    W       S-R       C-U       O-E       L\n",
      "    R       T-        D-        P-H       M\n",
      "    F       U-B       E-Q       Q-.       N\n",
      "    G       V-V       F-C       R-J       O\n",
      "    N       W-Y       G-W       S-G       P\n",
      "    X       X-K       H-H       T-        Q\n",
      "    Y       Y-T       I-B       U-O       R\n",
      "    R       Z-E       J-F       V-B       S\n",
      "    T        -.       K-N       W-T       T\n",
      "    A       .-Z       L-T       X-M       U\n",
      "    N       A-I       M-D       Y-N       V\n",
      "    M       B-U       N-G       Z-F       W\n",
      "    Y       C-A       O-S        -Y       X\n",
      "    M       D-P       P-O       .-P       Y\n",
      "    U       E-J       Q-K       A-D       Z\n",
      "    W       F-H       R-A       B-A        \n",
      "    D       G-L       S-Y       C-R       .\n",
      "Reflector Rotor_left Rot_mid Rot_right Teclado\n",
      "    K       H-C       T-P       E-K       A\n",
      "    G       I-N       U-V       F-Q       B\n",
      "    A       J-M       V-L       G-V       C\n",
      "    X       K-X       W-X       H-W       D\n",
      "    D       L-D       X-Z       I-U       E\n",
      "    U       M-O       Y-R       J-C       F\n",
      "    I       N-Q       Z-E       K-X       G\n",
      "    T       O-F        -I       L-S       H\n",
      "    I       P-W       .-M       M-I       I\n",
      "    F       Q-G       A-J       N-Z       J\n",
      "    K       R-S       B-.       O-E       K\n",
      "    W       S-R       C-U       P-H       L\n",
      "    R       T-        D-        Q-.       M\n",
      "    F       U-B       E-Q       R-J       N\n",
      "    G       V-V       F-C       S-G       O\n",
      "    N       W-Y       G-W       T-        P\n",
      "    X       X-K       H-H       U-O       Q\n",
      "    Y       Y-T       I-B       V-B       R\n",
      "    R       Z-E       J-F       W-T       S\n",
      "    T        -.       K-N       X-M       T\n",
      "    A       .-Z       L-T       Y-N       U\n",
      "    N       A-I       M-D       Z-F       V\n",
      "    M       B-U       N-G        -Y       W\n",
      "    Y       C-A       O-S       .-P       X\n",
      "    M       D-P       P-O       A-D       Y\n",
      "    U       E-J       Q-K       B-A       Z\n",
      "    W       F-H       R-A       C-R        \n",
      "    D       G-L       S-Y       D-L       .\n",
      "Reflector Rotor_left Rot_mid Rot_right Teclado\n",
      "    K       H-C       T-P       F-Q       A\n",
      "    G       I-N       U-V       G-V       B\n",
      "    A       J-M       V-L       H-W       C\n",
      "    X       K-X       W-X       I-U       D\n",
      "    D       L-D       X-Z       J-C       E\n",
      "    U       M-O       Y-R       K-X       F\n",
      "    I       N-Q       Z-E       L-S       G\n",
      "    T       O-F        -I       M-I       H\n",
      "    I       P-W       .-M       N-Z       I\n",
      "    F       Q-G       A-J       O-E       J\n",
      "    K       R-S       B-.       P-H       K\n",
      "    W       S-R       C-U       Q-.       L\n",
      "    R       T-        D-        R-J       M\n",
      "    F       U-B       E-Q       S-G       N\n",
      "    G       V-V       F-C       T-        O\n",
      "    N       W-Y       G-W       U-O       P\n",
      "    X       X-K       H-H       V-B       Q\n",
      "    Y       Y-T       I-B       W-T       R\n",
      "    R       Z-E       J-F       X-M       S\n",
      "    T        -.       K-N       Y-N       T\n",
      "    A       .-Z       L-T       Z-F       U\n",
      "    N       A-I       M-D        -Y       V\n",
      "    M       B-U       N-G       .-P       W\n",
      "    Y       C-A       O-S       A-D       X\n",
      "    M       D-P       P-O       B-A       Y\n",
      "    U       E-J       Q-K       C-R       Z\n",
      "    W       F-H       R-A       D-L        \n",
      "    D       G-L       S-Y       E-K       .\n",
      "Reflector Rotor_left Rot_mid Rot_right Teclado\n",
      "    K       H-C       T-P       G-V       A\n",
      "    G       I-N       U-V       H-W       B\n",
      "    A       J-M       V-L       I-U       C\n",
      "    X       K-X       W-X       J-C       D\n",
      "    D       L-D       X-Z       K-X       E\n",
      "    U       M-O       Y-R       L-S       F\n",
      "    I       N-Q       Z-E       M-I       G\n",
      "    T       O-F        -I       N-Z       H\n",
      "    I       P-W       .-M       O-E       I\n",
      "    F       Q-G       A-J       P-H       J\n",
      "    K       R-S       B-.       Q-.       K\n",
      "    W       S-R       C-U       R-J       L\n",
      "    R       T-        D-        S-G       M\n",
      "    F       U-B       E-Q       T-        N\n",
      "    G       V-V       F-C       U-O       O\n",
      "    N       W-Y       G-W       V-B       P\n",
      "    X       X-K       H-H       W-T       Q\n",
      "    Y       Y-T       I-B       X-M       R\n",
      "    R       Z-E       J-F       Y-N       S\n",
      "    T        -.       K-N       Z-F       T\n",
      "    A       .-Z       L-T        -Y       U\n",
      "    N       A-I       M-D       .-P       V\n",
      "    M       B-U       N-G       A-D       W\n",
      "    Y       C-A       O-S       B-A       X\n",
      "    M       D-P       P-O       C-R       Y\n",
      "    U       E-J       Q-K       D-L       Z\n",
      "    W       F-H       R-A       E-K        \n",
      "    D       G-L       S-Y       F-Q       .\n",
      "Reflector Rotor_left Rot_mid Rot_right Teclado\n",
      "    K       H-C       T-P       H-W       A\n",
      "    G       I-N       U-V       I-U       B\n",
      "    A       J-M       V-L       J-C       C\n",
      "    X       K-X       W-X       K-X       D\n",
      "    D       L-D       X-Z       L-S       E\n",
      "    U       M-O       Y-R       M-I       F\n",
      "    I       N-Q       Z-E       N-Z       G\n",
      "    T       O-F        -I       O-E       H\n",
      "    I       P-W       .-M       P-H       I\n",
      "    F       Q-G       A-J       Q-.       J\n",
      "    K       R-S       B-.       R-J       K\n",
      "    W       S-R       C-U       S-G       L\n",
      "    R       T-        D-        T-        M\n",
      "    F       U-B       E-Q       U-O       N\n",
      "    G       V-V       F-C       V-B       O\n",
      "    N       W-Y       G-W       W-T       P\n",
      "    X       X-K       H-H       X-M       Q\n",
      "    Y       Y-T       I-B       Y-N       R\n",
      "    R       Z-E       J-F       Z-F       S\n",
      "    T        -.       K-N        -Y       T\n",
      "    A       .-Z       L-T       .-P       U\n",
      "    N       A-I       M-D       A-D       V\n",
      "    M       B-U       N-G       B-A       W\n",
      "    Y       C-A       O-S       C-R       X\n",
      "    M       D-P       P-O       D-L       Y\n",
      "    U       E-J       Q-K       E-K       Z\n",
      "    W       F-H       R-A       F-Q        \n",
      "    D       G-L       S-Y       G-V       .\n",
      "Reflector Rotor_left Rot_mid Rot_right Teclado\n",
      "    K       H-C       T-P       I-U       A\n",
      "    G       I-N       U-V       J-C       B\n",
      "    A       J-M       V-L       K-X       C\n",
      "    X       K-X       W-X       L-S       D\n",
      "    D       L-D       X-Z       M-I       E\n",
      "    U       M-O       Y-R       N-Z       F\n",
      "    I       N-Q       Z-E       O-E       G\n",
      "    T       O-F        -I       P-H       H\n",
      "    I       P-W       .-M       Q-.       I\n",
      "    F       Q-G       A-J       R-J       J\n",
      "    K       R-S       B-.       S-G       K\n",
      "    W       S-R       C-U       T-        L\n",
      "    R       T-        D-        U-O       M\n",
      "    F       U-B       E-Q       V-B       N\n",
      "    G       V-V       F-C       W-T       O\n",
      "    N       W-Y       G-W       X-M       P\n",
      "    X       X-K       H-H       Y-N       Q\n",
      "    Y       Y-T       I-B       Z-F       R\n",
      "    R       Z-E       J-F        -Y       S\n",
      "    T        -.       K-N       .-P       T\n",
      "    A       .-Z       L-T       A-D       U\n",
      "    N       A-I       M-D       B-A       V\n",
      "    M       B-U       N-G       C-R       W\n",
      "    Y       C-A       O-S       D-L       X\n",
      "    M       D-P       P-O       E-K       Y\n",
      "    U       E-J       Q-K       F-Q       Z\n",
      "    W       F-H       R-A       G-V        \n",
      "    D       G-L       S-Y       H-W       .\n",
      "Reflector Rotor_left Rot_mid Rot_right Teclado\n",
      "    K       H-C       T-P       J-C       A\n",
      "    G       I-N       U-V       K-X       B\n",
      "    A       J-M       V-L       L-S       C\n",
      "    X       K-X       W-X       M-I       D\n",
      "    D       L-D       X-Z       N-Z       E\n",
      "    U       M-O       Y-R       O-E       F\n",
      "    I       N-Q       Z-E       P-H       G\n",
      "    T       O-F        -I       Q-.       H\n",
      "    I       P-W       .-M       R-J       I\n",
      "    F       Q-G       A-J       S-G       J\n",
      "    K       R-S       B-.       T-        K\n",
      "    W       S-R       C-U       U-O       L\n",
      "    R       T-        D-        V-B       M\n",
      "    F       U-B       E-Q       W-T       N\n",
      "    G       V-V       F-C       X-M       O\n",
      "    N       W-Y       G-W       Y-N       P\n",
      "    X       X-K       H-H       Z-F       Q\n",
      "    Y       Y-T       I-B        -Y       R\n",
      "    R       Z-E       J-F       .-P       S\n",
      "    T        -.       K-N       A-D       T\n",
      "    A       .-Z       L-T       B-A       U\n",
      "    N       A-I       M-D       C-R       V\n",
      "    M       B-U       N-G       D-L       W\n",
      "    Y       C-A       O-S       E-K       X\n",
      "    M       D-P       P-O       F-Q       Y\n",
      "    U       E-J       Q-K       G-V       Z\n",
      "    W       F-H       R-A       H-W        \n",
      "    D       G-L       S-Y       I-U       .\n"
     ]
    },
    {
     "data": {
      "text/plain": [
       "'K.IBFYO'"
      ]
     },
     "execution_count": 143,
     "metadata": {},
     "output_type": "execute_result"
    }
   ],
   "source": [
    "enigma('Hola TS','HTC')"
   ]
  },
  {
   "attachments": {},
   "cell_type": "markdown",
   "metadata": {},
   "source": [
    "Desencriptar mensaje con su respectiva clave."
   ]
  },
  {
   "cell_type": "code",
   "execution_count": 141,
   "metadata": {},
   "outputs": [
    {
     "data": {
      "text/plain": [
       "'HOLA TS'"
      ]
     },
     "execution_count": 141,
     "metadata": {},
     "output_type": "execute_result"
    }
   ],
   "source": [
    "enigma('K.IBFYO','HTC')"
   ]
  }
 ],
 "metadata": {
  "kernelspec": {
   "display_name": "Python 3",
   "language": "python",
   "name": "python3"
  },
  "language_info": {
   "codemirror_mode": {
    "name": "ipython",
    "version": 3
   },
   "file_extension": ".py",
   "mimetype": "text/x-python",
   "name": "python",
   "nbconvert_exporter": "python",
   "pygments_lexer": "ipython3",
   "version": "3.10.9"
  },
  "orig_nbformat": 4
 },
 "nbformat": 4,
 "nbformat_minor": 2
}
