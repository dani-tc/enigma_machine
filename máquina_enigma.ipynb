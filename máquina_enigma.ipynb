{
 "cells": [
  {
   "attachments": {},
   "cell_type": "markdown",
   "metadata": {},
   "source": [
    "# Código para una Máquina Enigma en Python"
   ]
  },
  {
   "cell_type": "code",
   "execution_count": 159,
   "metadata": {},
   "outputs": [],
   "source": [
    "#Importaciones\n",
    "import random\n",
    "import string"
   ]
  },
  {
   "cell_type": "code",
   "execution_count": 160,
   "metadata": {},
   "outputs": [
    {
     "name": "stdout",
     "output_type": "stream",
     "text": [
      "['A', 'B', 'C', 'D', 'E', 'F', 'G', 'H', 'I', 'J', 'K', 'L', 'M', 'N', 'O', 'P', 'Q', 'R', 'S', 'T', 'U', 'V', 'W', 'X', 'Y', 'Z', '', '.']\n",
      "28\n"
     ]
    }
   ],
   "source": [
    "# Definición de varibale 'st' para la parte del rotor ordenado\n",
    "st = ['A','B','C','D','E','F','G','H','I','J','K','L','M','N','O','P','Q','R','S','T','U','V','W','X','Y','Z','','.']\n",
    "# Imprimir el rotor 'st' y su longitud\n",
    "print(st)\n",
    "print(len(st))"
   ]
  },
  {
   "cell_type": "code",
   "execution_count": 161,
   "metadata": {},
   "outputs": [
    {
     "name": "stdout",
     "output_type": "stream",
     "text": [
      "['S', 'U', 'Z', 'Q', 'Q', 'H', 'W', 'P', 'F', 'U', 'V', 'B', 'O', 'P', 'R', 'Y', 'Z', 'V', 'H', 'W', 'M', 'M', 'S', 'O', 'R', 'F', 'Y', 'B']\n",
      "28\n"
     ]
    }
   ],
   "source": [
    "# Definición de variable 'st_only_letters' para tener una lista de solo letras que será usada para armar el reflector\n",
    "st_only_letters = ['A','B','C','D','E','F','G','H','I','J','K','L','M','N','O','P','Q','R','S','T','U','V','W','X','Y','Z']\n",
    "# Escoger aleatoriamente 14 letras de la variable 'st_only_letters' para el reflector\n",
    "random_letters =  random.sample(st_only_letters,14)\n",
    "# Definición de varibale 'rf' para el reflector (14 elementos repetidos dos veces)\n",
    "rf= []\n",
    "# For loop para duplicar los elementos de la lista 'random_letters' para que tener 28 elementos.\n",
    "for i in random_letters:\n",
    "    rf.extend([i,i])\n",
    "# Función para cambiar la lista a un orden aleatorio\n",
    "random.shuffle(rf)\n",
    "# Imprimir el reflector 'rf' y su longitud\n",
    "print(rf)\n",
    "print(len(rf))"
   ]
  },
  {
   "cell_type": "code",
   "execution_count": 162,
   "metadata": {},
   "outputs": [
    {
     "name": "stdout",
     "output_type": "stream",
     "text": [
      "['T', 'I', 'F', 'W', 'H', 'A', 'L', '', 'B', 'E', 'O', 'V', 'D', 'X', 'J', 'Y', 'N', 'R', '.', 'M', 'P', 'G', 'U', 'C', 'Z', 'K', 'Q', 'S']\n",
      "28\n"
     ]
    }
   ],
   "source": [
    "r_right = ['A','B','C','D','E','F','G','H','I','J','K','L','M','N','O','P','Q','R','S','T','U','V','W','X','Y','Z','','.']\n",
    "random.shuffle(r_right)\n",
    "print(r_right)\n",
    "print(len(r_right))"
   ]
  },
  {
   "cell_type": "code",
   "execution_count": 163,
   "metadata": {},
   "outputs": [
    {
     "name": "stdout",
     "output_type": "stream",
     "text": [
      "['N', 'S', 'O', '.', 'I', 'T', 'J', 'H', 'X', 'P', '', 'F', 'Q', 'D', 'E', 'L', 'B', 'R', 'Y', 'A', 'Z', 'V', 'G', 'C', 'U', 'K', 'M', 'W']\n",
      "28\n"
     ]
    }
   ],
   "source": [
    "r_mid = ['A','B','C','D','E','F','G','H','I','J','K','L','M','N','O','P','Q','R','S','T','U','V','W','X','Y','Z','','.']\n",
    "random.shuffle(r_mid)\n",
    "print(r_mid)\n",
    "print(len(r_mid))"
   ]
  },
  {
   "cell_type": "code",
   "execution_count": 164,
   "metadata": {},
   "outputs": [
    {
     "name": "stdout",
     "output_type": "stream",
     "text": [
      "['C', 'F', 'E', '.', 'K', 'V', 'J', 'X', 'A', 'G', 'W', 'U', 'Q', 'B', 'R', 'S', 'H', 'M', 'L', 'Z', 'P', 'Y', 'N', 'D', 'I', '', 'O', 'T']\n",
      "28\n"
     ]
    }
   ],
   "source": [
    "r_left = ['A','B','C','D','E','F','G','H','I','J','K','L','M','N','O','P','Q','R','S','T','U','V','W','X','Y','Z','','.']\n",
    "random.shuffle(r_left)\n",
    "print(r_left)\n",
    "print(len(r_left))"
   ]
  }
 ],
 "metadata": {
  "kernelspec": {
   "display_name": "Python 3",
   "language": "python",
   "name": "python3"
  },
  "language_info": {
   "codemirror_mode": {
    "name": "ipython",
    "version": 3
   },
   "file_extension": ".py",
   "mimetype": "text/x-python",
   "name": "python",
   "nbconvert_exporter": "python",
   "pygments_lexer": "ipython3",
   "version": "3.10.9"
  },
  "orig_nbformat": 4
 },
 "nbformat": 4,
 "nbformat_minor": 2
}
